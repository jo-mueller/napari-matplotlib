{
 "cells": [
  {
   "cell_type": "code",
   "execution_count": 1,
   "metadata": {},
   "outputs": [],
   "source": [
    "import napari\n",
    "import numpy as np\n",
    "import pandas as pd\n",
    "from magicgui import magicgui\n",
    "from napari_matplotlib.line import MetadataLine2DWidget\n",
    "from napari_matplotlib.scatter import FeaturesScatterWidget\n",
    "from skimage.io import imread\n",
    "import matplotlib.pyplot as plt"
   ]
  },
  {
   "attachments": {},
   "cell_type": "markdown",
   "metadata": {},
   "source": [
    "## Load data\n",
    "Videos, mask and frame rate:"
   ]
  },
  {
   "cell_type": "code",
   "execution_count": 2,
   "metadata": {},
   "outputs": [],
   "source": [
    "url_data = r'https://github.com/zoccoler/metroid/raw/master/Data/Cell1/videos_AP/vid1.tif'\n",
    "url_data = r\"C:\\Users\\mazo260d\\Documents\\GitHub\\metroid\\Data\\Cell1\\videos_AP\\vid1.tif\"\n",
    "video_AP1 = imread(url_data)\n",
    "video_AP1 = video_AP1[:, np.newaxis]\n",
    "frame_rate_AP1 = 55.78\n",
    "\n",
    "\n",
    "url_data = r'https://github.com/zoccoler/metroid/raw/master/Data/Cell1/video_EP/vid3.tif'\n",
    "url_data = r\"C:\\Users\\mazo260d\\Documents\\GitHub\\metroid\\Data\\Cell1\\video_EP\\vid3.tif\"\n",
    "video_EP1 = imread(url_data)\n",
    "frame_rate_EP1 = 55.56\n",
    "\n",
    "url_data = r'https://github.com/zoccoler/metroid/raw/master/Data/Cell1/video_EP/cellmask.tif'\n",
    "url_data = r\"C:\\Users\\mazo260d\\Documents\\GitHub\\metroid\\Data\\Cell1\\video_EP\\cellmask.tif\"\n",
    "mask = imread(url_data).astype(bool)\n",
    "\n",
    "frame_rate = 60 # Hz or fps"
   ]
  },
  {
   "cell_type": "markdown",
   "metadata": {},
   "source": [
    "## Calculate time array and masked mean over time array"
   ]
  },
  {
   "cell_type": "code",
   "execution_count": 3,
   "metadata": {},
   "outputs": [],
   "source": [
    "def get_masked_mean_over_time(timelapse_image, binary_mask):\n",
    "    '''\n",
    "    timelapse_image: timelapse image (can be uint)\n",
    "    binary_mask: must be bool\n",
    "    '''\n",
    "    # Remove extra Z dimension\n",
    "    timelapse_image = timelapse_image.squeeze()\n",
    "    # If mask is 2D, broadcast it to same shape as timelapse_image \n",
    "    mask_broadcasted = np.broadcast_to(binary_mask, timelapse_image.shape)\n",
    "    # Create masked array\n",
    "    timelapse_image_masked = np.ma.array(timelapse_image, mask = ~mask_broadcasted)\n",
    "    # Get mean over time of masked array\n",
    "    signal = timelapse_image_masked.mean(axis=(-2, -1)).data\n",
    "    return signal"
   ]
  },
  {
   "cell_type": "code",
   "execution_count": 4,
   "metadata": {},
   "outputs": [],
   "source": [
    "time_array_AP1 = np.arange(video_AP1.shape[0])/frame_rate_AP1\n",
    "time_array_EP1 = np.arange(video_EP1.shape[0])/frame_rate_EP1"
   ]
  },
  {
   "cell_type": "code",
   "execution_count": 5,
   "metadata": {},
   "outputs": [],
   "source": [
    "AP_signal = get_masked_mean_over_time(video_AP1, mask)\n",
    "EP_signal = get_masked_mean_over_time(video_EP1, mask)"
   ]
  },
  {
   "cell_type": "code",
   "execution_count": 6,
   "metadata": {},
   "outputs": [],
   "source": [
    "# Samll test\n",
    "# A = np.arange(36).reshape(4,3,3)\n",
    "# A_mask = A[0]\n",
    "# A_mask = (A[0] > 0) & (A[0] <= 2)"
   ]
  },
  {
   "attachments": {},
   "cell_type": "markdown",
   "metadata": {},
   "source": [
    "## Make plugin metadata"
   ]
  },
  {
   "cell_type": "code",
   "execution_count": 7,
   "metadata": {},
   "outputs": [],
   "source": [
    "viewer = napari.Viewer()\n",
    "image_layer_AP = viewer.add_image(video_AP1)\n",
    "# metadata = {'plugin_name': {'positions': positions,\n",
    "#                             'x_data': x_data,\n",
    "#                             'y_data': y_data,\n",
    "#                             'plugin_version': '0.0.1'},\n",
    "#             'other_image_metadata': 'image_metadata_value'}\n",
    "metadata_AP1 = {}\n",
    "# Add plugin1 data\n",
    "metadata_AP1['plugin1'] = {}\n",
    "metadata_AP1['plugin1']['signal'] = AP_signal\n",
    "metadata_AP1['plugin1']['time'] = time_array_AP1\n",
    "\n",
    "image_layer_AP.metadata = metadata_AP1"
   ]
  },
  {
   "cell_type": "code",
   "execution_count": 8,
   "metadata": {},
   "outputs": [
    {
     "name": "stdout",
     "output_type": "stream",
     "text": [
      "<class 'list'> [('Home', 'Reset original view', 'home', 'home'), ('Back', 'Back to previous view', 'back', 'back'), ('Forward', 'Forward to next view', 'forward', 'forward'), (None, None, None, None), ('Pan', 'Left button pans, Right button zooms\\nx/y fixes axis, CTRL fixes aspect', 'move', 'pan'), ('Zoom', 'Zoom to rectangle\\nx/y fixes axis', 'zoom_to_rect', 'zoom'), ('Subplots', 'Configure subplots', 'subplots', 'configure_subplots'), ('Customize', 'Edit axis, curve and image parameters', 'qt4_editor_options', 'edit_parameters'), (None, None, None, None), ('Save', 'Save the figure', 'filesave', 'save_figure')]\n"
     ]
    },
    {
     "data": {
      "text/plain": [
       "<napari._qt.widgets.qt_viewer_dock_widget.QtViewerDockWidget at 0x18b8b8d9c10>"
      ]
     },
     "execution_count": 8,
     "metadata": {},
     "output_type": "execute_result"
    },
    {
     "name": "stdout",
     "output_type": "stream",
     "text": [
      "test\n",
      "<matplotlib.backends.backend_qtagg.FigureCanvasQTAgg object at 0x0000018BF8929C10>\n",
      "<built-in method parent of NapariNavigationToolbar object at 0x0000018BF438E820>\n",
      "a\n",
      "()\n"
     ]
    }
   ],
   "source": [
    "plotter_widget = MetadataLine2DWidget(viewer)\n",
    "# plotter_widget = FeaturesScatterWidget(viewer)\n",
    "viewer.window.add_dock_widget(plotter_widget)"
   ]
  },
  {
   "cell_type": "code",
   "execution_count": null,
   "metadata": {},
   "outputs": [],
   "source": []
  }
 ],
 "metadata": {
  "kernelspec": {
   "display_name": "napari-mpl-dev",
   "language": "python",
   "name": "python3"
  },
  "language_info": {
   "codemirror_mode": {
    "name": "ipython",
    "version": 3
   },
   "file_extension": ".py",
   "mimetype": "text/x-python",
   "name": "python",
   "nbconvert_exporter": "python",
   "pygments_lexer": "ipython3",
   "version": "3.9.15"
  },
  "orig_nbformat": 4,
  "vscode": {
   "interpreter": {
    "hash": "468741df43e788f11be3f0f0905102bc88a14cf26cd5d26800835a9cf2baf68c"
   }
  }
 },
 "nbformat": 4,
 "nbformat_minor": 2
}
